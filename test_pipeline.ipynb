{
 "cells": [
  {
   "cell_type": "code",
   "execution_count": 1,
   "id": "726a738e",
   "metadata": {},
   "outputs": [],
   "source": [
    "import pandas as pd\n",
    "import numpy as np\n",
    "\n",
    "data = pd.read_csv('Code Data/train.csv', index_col='Id')\n",
    "\n",
    "numeric = data.select_dtypes(include=[np.number])\n",
    "numeric.columns\n",
    "\n",
    "corr_numer = numeric.corr()\n",
    "correlation = pd.DataFrame(corr_numer['SalePrice'].sort_values(ascending=False))\n",
    "correlation = correlation[correlation['SalePrice'] >0.5]\n",
    "numerical_cols = correlation.index\n",
    "numerical_cols = numerical_cols.tolist()\n",
    "\n",
    "categorical_cols = data.select_dtypes(include = object).columns\n",
    "categorical_cols = categorical_cols.tolist()\n",
    "\n",
    "cols = numerical_cols + categorical_cols"
   ]
  },
  {
   "cell_type": "code",
   "execution_count": 2,
   "id": "0b0ece03",
   "metadata": {},
   "outputs": [],
   "source": [
    "import pandas as pd\n",
    "import numpy as np\n",
    "from sklearn.model_selection import train_test_split,GridSearchCV\n",
    "import matplotlib.pyplot as plt\n",
    "\n",
    "# Read the data\n",
    "X = pd.read_csv('Code Data/train.csv', index_col='Id')\n",
    "test = pd.read_csv('Code Data/test.csv', index_col='Id')\n",
    "\n",
    "#X['SalePrice'] = np.log1p(X['SalePrice'])\n",
    "\n",
    "# Remove rows with missing target, separate target from predictors\n",
    "X.dropna(axis=0, subset=['SalePrice'], inplace=True)\n",
    "y = X.SalePrice\n",
    "X.drop(['SalePrice'], axis=1, inplace=True)\n",
    "\n",
    "object_cols = list(X.select_dtypes(include=['object']).columns)\n",
    "\n",
    "# convert object columns to categorical columns\n",
    "X[object_cols] = X[object_cols].astype('category')\n",
    "\n",
    "# Break off validation set from training data\n",
    "X_train, X_test, y_train, y_test = train_test_split(X, y, train_size=0.8, shuffle=True, test_size=0.2, random_state=1)\n",
    "\n",
    "# \"Cardinality\" means the number of unique values in a column\n",
    "# Select categorical columns with relatively low cardinality (convenient but arbitrary)\n",
    "categorical_cols = [cname for cname in X_train.columns if\n",
    "                    X_train[cname].nunique() < 10 and \n",
    "                    X_train[cname].dtype == \"category\"]\n",
    "\n",
    "# Select numerical columns\n",
    "numerical_cols = [cname for cname in X_train.columns if \n",
    "                X_train[cname].dtype in ['int64', 'float64']]\n",
    "\n"
   ]
  },
  {
   "cell_type": "code",
   "execution_count": 3,
   "id": "9819fc07",
   "metadata": {},
   "outputs": [
    {
     "data": {
      "text/plain": [
       "Id\n",
       "922     145900\n",
       "521     106250\n",
       "402     164990\n",
       "281     228500\n",
       "1402    193000\n",
       "         ...  \n",
       "716     165000\n",
       "906     128000\n",
       "1097    127000\n",
       "236      89500\n",
       "1062     81000\n",
       "Name: SalePrice, Length: 1168, dtype: int64"
      ]
     },
     "execution_count": 3,
     "metadata": {},
     "output_type": "execute_result"
    }
   ],
   "source": [
    "y_train"
   ]
  },
  {
   "cell_type": "code",
   "execution_count": 4,
   "id": "faf747c3",
   "metadata": {},
   "outputs": [],
   "source": [
    "# Keep selected columns only\n",
    "my_cols = categorical_cols + numerical_cols\n",
    "X_train = X_train[my_cols].copy()\n",
    "X_test = X_test[my_cols].copy()"
   ]
  },
  {
   "cell_type": "code",
   "execution_count": 5,
   "id": "69537bf8",
   "metadata": {},
   "outputs": [],
   "source": [
    "ordinal_cols =[\"HeatingQC\", \"BsmtQual\", \"ExterQual\", \"GarageCond\", \"GarageQual\", \"KitchenQual\", \"BsmtFinType1\", \"BsmtExposure\"]\n",
    "nominal_cols = [\"CentralAir\", \"Foundation\", \"MasVnrType\", \"HouseStyle\", \"LotShape\", \"MSZoning\", \"SaleCondition\", \"SaleType\", \"GarageFinish\", \"GarageType\"]"
   ]
  },
  {
   "cell_type": "code",
   "execution_count": 6,
   "id": "d5f42f13",
   "metadata": {},
   "outputs": [],
   "source": [
    "from sklearn.compose import ColumnTransformer\n",
    "from sklearn.pipeline import Pipeline\n",
    "from sklearn.impute import SimpleImputer\n",
    "from sklearn.preprocessing import OneHotEncoder, StandardScaler, LabelEncoder\n",
    "from sklearn.metrics import mean_absolute_error,mean_squared_error, r2_score, mean_absolute_percentage_error\n",
    "from xgboost import XGBRegressor\n",
    "from sklearn.linear_model import LinearRegression\n",
    "from sklearn.feature_selection import SelectKBest, f_regression\n",
    "from sklearn.svm import SVR\n",
    "from sklearn.ensemble import GradientBoostingRegressor"
   ]
  },
  {
   "cell_type": "raw",
   "id": "db459577",
   "metadata": {},
   "source": [
    "from sklearn.model_selection import GridSearchCV\n",
    "\n",
    "# get a list of object columns\n",
    "\n",
    "# create an XGBoost regressor\n",
    "xgb = XGBRegressor()\n",
    "gbr = GradientBoostingRegressor()\n",
    "\n",
    "\n",
    "# define the grid search parameters\n",
    "parameters = {'learning_rate': [0.05, 0.1, 0.2],\n",
    "              'max_depth': [3, 4, 5],\n",
    "              'n_estimators': [50, 100, 200]}\n",
    "\n",
    "# perform the grid search\n",
    "grid_search = GridSearchCV(estimator=xgb, param_grid=parameters, cv=5, n_jobs=-1)\n",
    "grid_search.fit(X_train[numerical_cols], y_train)\n",
    "\n",
    "# print the best parameters and score\n",
    "print('XGB Regressor')\n",
    "print(\"Best parameters found: \", grid_search.best_params_)\n",
    "print(\"Best score found: \", grid_search.best_score_)\n"
   ]
  },
  {
   "cell_type": "code",
   "execution_count": 7,
   "id": "c4929f23",
   "metadata": {},
   "outputs": [
    {
     "ename": "TypeError",
     "evalue": "LabelEncoder() takes no arguments",
     "output_type": "error",
     "traceback": [
      "\u001b[1;31m---------------------------------------------------------------------------\u001b[0m",
      "\u001b[1;31mTypeError\u001b[0m                                 Traceback (most recent call last)",
      "Input \u001b[1;32mIn [7]\u001b[0m, in \u001b[0;36m<cell line: 11>\u001b[1;34m()\u001b[0m\n\u001b[0;32m      2\u001b[0m numerical_transformer \u001b[38;5;241m=\u001b[39m Pipeline(steps\u001b[38;5;241m=\u001b[39m[\n\u001b[0;32m      3\u001b[0m     (\u001b[38;5;124m'\u001b[39m\u001b[38;5;124mimputer\u001b[39m\u001b[38;5;124m'\u001b[39m, SimpleImputer(strategy\u001b[38;5;241m=\u001b[39m\u001b[38;5;124m'\u001b[39m\u001b[38;5;124mmean\u001b[39m\u001b[38;5;124m'\u001b[39m)) \u001b[38;5;66;03m# fill missing values with mean\u001b[39;00m\n\u001b[0;32m      4\u001b[0m ])\n\u001b[0;32m      6\u001b[0m ordinal_transformer \u001b[38;5;241m=\u001b[39m Pipeline(steps\u001b[38;5;241m=\u001b[39m[\n\u001b[0;32m      7\u001b[0m     (\u001b[38;5;124m'\u001b[39m\u001b[38;5;124mimputer\u001b[39m\u001b[38;5;124m'\u001b[39m, SimpleImputer(strategy\u001b[38;5;241m=\u001b[39m\u001b[38;5;124m'\u001b[39m\u001b[38;5;124mmost_frequent\u001b[39m\u001b[38;5;124m'\u001b[39m)), \u001b[38;5;66;03m# fill missing values with mode\u001b[39;00m\n\u001b[0;32m      8\u001b[0m     (\u001b[38;5;124m'\u001b[39m\u001b[38;5;124monehot\u001b[39m\u001b[38;5;124m'\u001b[39m, OneHotEncoder(handle_unknown\u001b[38;5;241m=\u001b[39m\u001b[38;5;124m'\u001b[39m\u001b[38;5;124mignore\u001b[39m\u001b[38;5;124m'\u001b[39m)) \u001b[38;5;66;03m# one hot encoding for categorical columns\u001b[39;00m\n\u001b[0;32m      9\u001b[0m ])\n\u001b[0;32m     11\u001b[0m nominal_encoder \u001b[38;5;241m=\u001b[39m Pipeline(steps\u001b[38;5;241m=\u001b[39m[\n\u001b[0;32m     12\u001b[0m     (\u001b[38;5;124m'\u001b[39m\u001b[38;5;124mimputer\u001b[39m\u001b[38;5;124m'\u001b[39m, SimpleImputer(strategy\u001b[38;5;241m=\u001b[39m\u001b[38;5;124m'\u001b[39m\u001b[38;5;124mmost_frequent\u001b[39m\u001b[38;5;124m'\u001b[39m)),\n\u001b[1;32m---> 13\u001b[0m     (\u001b[38;5;124m'\u001b[39m\u001b[38;5;124mlabel\u001b[39m\u001b[38;5;124m'\u001b[39m, \u001b[43mLabelEncoder\u001b[49m\u001b[43m(\u001b[49m\u001b[43mhandle_unknown\u001b[49m\u001b[38;5;241;43m=\u001b[39;49m\u001b[38;5;124;43m'\u001b[39;49m\u001b[38;5;124;43mignore\u001b[39;49m\u001b[38;5;124;43m'\u001b[39;49m\u001b[43m)\u001b[49m)\n\u001b[0;32m     14\u001b[0m ])\n\u001b[0;32m     16\u001b[0m \u001b[38;5;66;03m# Combine numerical and categorical transformers using ColumnTransformer\u001b[39;00m\n\u001b[0;32m     17\u001b[0m preprocessor \u001b[38;5;241m=\u001b[39m ColumnTransformer(transformers\u001b[38;5;241m=\u001b[39m[\n\u001b[0;32m     18\u001b[0m     (\u001b[38;5;124m'\u001b[39m\u001b[38;5;124mScaler\u001b[39m\u001b[38;5;124m'\u001b[39m, StandardScaler(), numerical_cols),\n\u001b[0;32m     19\u001b[0m     (\u001b[38;5;124m'\u001b[39m\u001b[38;5;124mnum\u001b[39m\u001b[38;5;124m'\u001b[39m, numerical_transformer, numerical_cols),\n\u001b[0;32m     20\u001b[0m     (\u001b[38;5;124m'\u001b[39m\u001b[38;5;124mord\u001b[39m\u001b[38;5;124m'\u001b[39m, ordinal_transformer, ordinal_cols)\n\u001b[0;32m     21\u001b[0m ])\n",
      "\u001b[1;31mTypeError\u001b[0m: LabelEncoder() takes no arguments"
     ]
    }
   ],
   "source": [
    "# Define the pipeline steps for numerical and categorical columns\n",
    "numerical_transformer = Pipeline(steps=[\n",
    "    ('imputer', SimpleImputer(strategy='mean')) # fill missing values with mean\n",
    "])\n",
    "\n",
    "ordinal_transformer = Pipeline(steps=[\n",
    "    ('imputer', SimpleImputer(strategy='most_frequent')), # fill missing values with mode\n",
    "    ('onehot', OneHotEncoder(handle_unknown='ignore')) # one hot encoding for categorical columns\n",
    "])\n",
    "\n",
    "nominal_encoder = Pipeline(steps=[\n",
    "    ('imputer', SimpleImputer(strategy='most_frequent')),\n",
    "    ('label', LabelEncoder(handle_unknown='ignore'))\n",
    "])\n",
    "\n",
    "# Combine numerical and categorical transformers using ColumnTransformer\n",
    "preprocessor = ColumnTransformer(transformers=[\n",
    "    ('Scaler', StandardScaler(), numerical_cols),\n",
    "    ('num', numerical_transformer, numerical_cols),\n",
    "    ('ord', ordinal_transformer, ordinal_cols)\n",
    "])"
   ]
  },
  {
   "cell_type": "code",
   "execution_count": null,
   "id": "62aba7f8",
   "metadata": {},
   "outputs": [],
   "source": [
    "# Define model\n",
    "xgb_model = XGBRegressor(learning_rate=0.1, n_estimators=200, max_depth=3, random_state=1)\n",
    "gbr_model = GradientBoostingRegressor(loss='squared_error', learning_rate=0.05, n_estimators=200, max_depth=3, random_state=1)\n",
    "svr_model = SVR(kernel='poly', C=0.1, gamma=0.1)\n",
    "lr_model = LinearRegression()\n",
    "\n",
    "# Gradient Boost Regression model\n",
    "gbr = Pipeline(steps=[('preprocessor', preprocessor),\n",
    "                      ('model', gbr_model)\n",
    "                     ])\n",
    "\n",
    "gbr.fit(X_train, y_train)\n",
    "preds = gbr.predict(X_test)\n",
    "\n",
    "\n",
    "print('Gradient Boost Regressor')\n",
    "print('MSE:', mean_squared_error(y_test, preds))\n",
    "print('MAE:', mean_absolute_error(y_test, preds))\n",
    "print('MAPE', mean_absolute_percentage_error(y_test, preds)*100, '%')\n",
    "print('R2 :', r2_score(y_test,preds)*100, '%')\n",
    "\n",
    "\n",
    "# Plot the scatter plot\n",
    "plt.scatter(y_test, preds, alpha = 0.5)\n",
    "plt.xlabel('True Values')\n",
    "plt.ylabel('Predictions')\n",
    "\n",
    "# Add the line\n",
    "plt.plot([y_test.min(), y_test.max()], [y_test.min(), y_test.max()], 'k-', lw=4)\n",
    "plt.title('True Values vs. Predictions')\n",
    "\n",
    "plt.show()\n",
    "\n",
    "# XGB Regressor model\n",
    "xgb = Pipeline(steps=[('preprocessor', preprocessor),\n",
    "                      ('model', xgb_model)\n",
    "                     ])\n",
    "\n",
    "xgb.fit(X_train, y_train)\n",
    "preds = xgb.predict(X_test)\n",
    "\n",
    "print('\\nXGB Regressor')\n",
    "print('MSE:', mean_squared_error(y_test, preds))\n",
    "print('MAE:', mean_absolute_error(y_test, preds))\n",
    "print('MAPE', mean_absolute_percentage_error(y_test, preds)*100, '%')\n",
    "print('R2 :', r2_score(y_test,preds)*100, '%')\n",
    "\n",
    "# Plot the scatter plot\n",
    "plt.scatter(y_test, preds, alpha = 0.5)\n",
    "plt.xlabel('True Values')\n",
    "plt.ylabel('Predictions')\n",
    "\n",
    "# Add the line\n",
    "plt.plot([y_test.min(), y_test.max()], [y_test.min(), y_test.max()], 'k-', lw=4)\n",
    "plt.title('True Values vs. Predictions')\n",
    "\n",
    "plt.show()\n",
    "\n",
    "# Linear Regresion model\n",
    "lr = Pipeline(steps=[('preprocessor', preprocessor),\n",
    "                      ('model', lr_model)\n",
    "                     ])\n",
    "\n",
    "lr.fit(X_train, y_train)\n",
    "preds = lr.predict(X_test)\n",
    "\n",
    "print('\\nLinear Regression')\n",
    "print('MSE:', mean_squared_error(y_test, preds))\n",
    "print('MAE:', mean_absolute_error(y_test, preds))\n",
    "print('MAPE', mean_absolute_percentage_error(y_test, preds)*100, '%')\n",
    "print('R2 :', r2_score(y_test,preds)*100, '%')\n",
    "\n",
    "# Plot the scatter plot\n",
    "plt.scatter(y_test, preds, alpha = 0.5)\n",
    "plt.xlabel('True Values')\n",
    "plt.ylabel('Predictions')\n",
    "\n",
    "# Add the line\n",
    "plt.plot([y_test.min(), y_test.max()], [y_test.min(), y_test.max()], 'k-', lw=4)\n",
    "plt.title('True Values vs. Predictions')\n",
    "\n",
    "plt.show()"
   ]
  },
  {
   "cell_type": "code",
   "execution_count": null,
   "id": "d787313f",
   "metadata": {},
   "outputs": [],
   "source": [
    "import pickle\n",
    "\n",
    "pickle.dump(gbr, open('model.pkl', 'wb'))"
   ]
  },
  {
   "cell_type": "code",
   "execution_count": null,
   "id": "72bbe444",
   "metadata": {},
   "outputs": [],
   "source": [
    "pickled_model = pickle.load(open('model.pkl', 'rb'))\n",
    "pickled_model.predict(test)"
   ]
  },
  {
   "cell_type": "code",
   "execution_count": null,
   "id": "64cef0d0",
   "metadata": {},
   "outputs": [],
   "source": [
    "test['SalePrice'] = gbr.predict(test)"
   ]
  },
  {
   "cell_type": "code",
   "execution_count": null,
   "id": "fdb30bae",
   "metadata": {},
   "outputs": [],
   "source": [
    "test"
   ]
  },
  {
   "cell_type": "code",
   "execution_count": null,
   "id": "6d35be7f",
   "metadata": {},
   "outputs": [],
   "source": []
  }
 ],
 "metadata": {
  "kernelspec": {
   "display_name": "Python 3 (ipykernel)",
   "language": "python",
   "name": "python3"
  },
  "language_info": {
   "codemirror_mode": {
    "name": "ipython",
    "version": 3
   },
   "file_extension": ".py",
   "mimetype": "text/x-python",
   "name": "python",
   "nbconvert_exporter": "python",
   "pygments_lexer": "ipython3",
   "version": "3.9.12"
  }
 },
 "nbformat": 4,
 "nbformat_minor": 5
}
